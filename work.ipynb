{
 "cells": [
  {
   "cell_type": "code",
   "execution_count": 1,
   "metadata": {},
   "outputs": [],
   "source": [
    "import requests\n",
    "import json\n",
    "import os\n",
    "from datetime import datetime\n",
    "\n",
    "# Dify API配置\n",
    "API_BASE_URL = \"https://api.dify.ai/v1\"\n",
    "UPLOAD_ENDPOINT = \"/files/upload\"\n",
    "CHAT_ENDPOINT = \"/chat-messages\"  \n",
    "API_KEY = \"app-cECUzGVa0z8WLN1NuUeJPsJK\"\n",
    "USER_ID = \"test\"  \n",
    "\n",
    "# 准备请求数据\n",
    "headers = {\n",
    "    \"Authorization\": f\"Bearer {API_KEY}\",\n",
    "}\n"
   ]
  },
  {
   "cell_type": "code",
   "execution_count": 2,
   "metadata": {},
   "outputs": [],
   "source": [
    "# 保存函数\n",
    "def save_data():\n",
    "    data = {\n",
    "        \"chat_history\": chat_history,\n",
    "        \"memory_records\": memory_records\n",
    "    }\n",
    "    with open(\"conversation_data.json\", \"w\", encoding=\"utf-8\") as f:\n",
    "        json.dump(data, f, ensure_ascii=False, indent=2)\n",
    "\n",
    "# 加载函数\n",
    "def load_data():\n",
    "    global chat_history, memory_records\n",
    "    try:\n",
    "        with open(\"conversation_data.json\", \"r\", encoding=\"utf-8\") as f:\n",
    "            data = json.load(f)\n",
    "            chat_history = data.get(\"chat_history\", [])\n",
    "            memory_records = data.get(\"memory_records\", [])\n",
    "    except FileNotFoundError:\n",
    "        # 文件不存在，初始化空列表\n",
    "        chat_history = []  # 存储聊天记录\n",
    "        memory_records = []  # 存储记忆"
   ]
  },
  {
   "cell_type": "code",
   "execution_count": 3,
   "metadata": {},
   "outputs": [
    {
     "name": "stdout",
     "output_type": "stream",
     "text": [
      "文件上传响应状态码: 201\n",
      "文件上传成功\n",
      "上传响应: {\n",
      "  \"id\": \"303ad9e8-c0ca-4f93-ada1-0356a013e650\",\n",
      "  \"name\": \"test.m4a\",\n",
      "  \"size\": 65651,\n",
      "  \"extension\": \"m4a\",\n",
      "  \"mime_type\": \"audio/m4a\",\n",
      "  \"created_by\": \"32c5e1e1-7c82-4510-92f2-9d1dc54a991b\",\n",
      "  \"created_at\": 1756637679,\n",
      "  \"preview_url\": null\n",
      "}\n",
      "获取到文件ID: 303ad9e8-c0ca-4f93-ada1-0356a013e650\n"
     ]
    }
   ],
   "source": [
    "# 准备音频文件\n",
    "audio_file_path = \"test.m4a\"  # 音频文件路径\n",
    "#audio_file_path = \"test2.wav\" \n",
    "\n",
    "upload_url = f\"{API_BASE_URL}{UPLOAD_ENDPOINT}\"\n",
    "upload_headers = {\n",
    "    \"Authorization\": f\"Bearer {API_KEY}\"\n",
    "}\n",
    "\n",
    "# 确定文件类型\n",
    "file_extension = os.path.splitext(audio_file_path)[1].lower()\n",
    "mime_type = \"audio/mpeg\"  # 默认值\n",
    "\n",
    "if file_extension == \".wav\":\n",
    "    mime_type = \"audio/wav\"\n",
    "elif file_extension == \".ogg\":\n",
    "    mime_type = \"audio/ogg\"\n",
    "elif file_extension == \".flac\":\n",
    "    mime_type = \"audio/flac\"\n",
    "elif file_extension == \".m4a\":\n",
    "    mime_type = \"audio/m4a\"\n",
    "\n",
    "with open(audio_file_path, \"rb\") as file:\n",
    "    files = {\n",
    "        \"file\": (os.path.basename(audio_file_path), file, mime_type),\n",
    "        \"user\": (None, USER_ID)\n",
    "    }\n",
    "    \n",
    "    upload_response = requests.post(upload_url, headers=upload_headers, files=files, timeout=30)\n",
    "\n",
    "    print(f\"文件上传响应状态码: {upload_response.status_code}\")\n",
    "    \n",
    "    if upload_response.status_code == 200 or upload_response.status_code == 201:\n",
    "        upload_result = upload_response.json()\n",
    "        print(\"文件上传成功\")\n",
    "        print(f\"上传响应: {json.dumps(upload_result, indent=2)}\")\n",
    "        \n",
    "        # 提取文件ID\n",
    "        file_id = upload_result.get(\"id\")\n",
    "        if not file_id:\n",
    "            print(\"错误: 上传响应中没有找到文件ID\")\n",
    "            exit()\n",
    "            \n",
    "        print(f\"获取到文件ID: {file_id}\")\n"
   ]
  },
  {
   "cell_type": "code",
   "execution_count": 4,
   "metadata": {},
   "outputs": [],
   "source": [
    "load_data()\n",
    "history_text = \"\"\n",
    "memory_text = \"\"\n",
    "\n",
    "if chat_history:\n",
    "    history_text = \"聊天历史:\\n\" + \"\\n\".join([\n",
    "        f\"[{record['timestamp']}] {record['content']}\" \n",
    "        for record in chat_history[-5:]  # 只取最近5条记录\n",
    "    ]) + \"\\n\\n\"\n",
    "\n",
    "\n",
    "if memory_records:\n",
    "    memory_text = \"记忆:\\n\" + \"\\n\".join([\n",
    "        f\"[{record['timestamp']}] {record['content']}\" \n",
    "        for record in memory_records[-3:]  # 只取最近3条记忆\n",
    "    ]) + \"\\n\\n\"\n",
    "\n",
    "query_text = history_text + memory_text + \"\\n以上为聊天历史\""
   ]
  },
  {
   "cell_type": "code",
   "execution_count": 5,
   "metadata": {},
   "outputs": [
    {
     "data": {
      "text/plain": [
       "'\\n以上为聊天历史'"
      ]
     },
     "execution_count": 5,
     "metadata": {},
     "output_type": "execute_result"
    }
   ],
   "source": [
    "query_text"
   ]
  },
  {
   "cell_type": "code",
   "execution_count": 5,
   "metadata": {},
   "outputs": [
    {
     "name": "stdout",
     "output_type": "stream",
     "text": [
      "对话响应状态码: 200\n",
      "对话请求成功\n",
      "对话响应: {\n",
      "  \"event\": \"message\",\n",
      "  \"task_id\": \"ee94e4b2-fd8c-45c3-b988-4b525129d697\",\n",
      "  \"id\": \"19e39445-4700-4fef-a3c4-ab03e320ebd4\",\n",
      "  \"message_id\": \"19e39445-4700-4fef-a3c4-ab03e320ebd4\",\n",
      "  \"conversation_id\": \"79e98c3f-f036-468b-94b2-1f3ccfc4f9a7\",\n",
      "  \"mode\": \"advanced-chat\",\n",
      "  \"answer\": \"[0b7ebff62b504062959ede9c90748314.wav](https://upload.dify.ai/files/tools/47275ccf-7a2f-4494-a9c4-fee8a09d6fb5.wav?timestamp=1756637705&nonce=a06a8c0126fe5424df0c241fc24325c7&sign=YHjtxJMXm9QxW-6P-Z1AxQ2YluZ5h-2w-3fyKD7dD20=)\\uff1b\\n\\n\\u7528\\u6237\\uff1a\\u4e0b\\u5348\\u6211\\u60f3\\u53bb\\u6253\\u724c\\u3002\\uff1b\\n\\u5c0f\\u4f34\\uff1a\\u5976\\u5976\\u4e0b\\u5348\\u60f3\\u53bb\\u6253\\u724c\\u5440\\uff0c\\u90a3\\u771f\\u597d\\uff01\\u8bb0\\u5f97\\u591a\\u7a7f\\u4ef6\\u5916\\u5957\\uff0c\\u522b\\u7740\\u51c9\\u4e86\\u5457\\u3002\\uff1b\\u662f\\u548c\\u4e0a\\u6b21\\u8bf4\\u7684\\u5f20\\u4e09\\u674e\\u56db\\u4ed6\\u4eec\\u4e00\\u8d77\\u73a9\\u4e0d\\uff1f\\uff1b\\n\\n\\u8bb0\\u5fc6\\uff1a\\u4e0b\\u5348\\u6253\\u724c\\u4e60\\u60ef, \\u53ef\\u80fd\\u5e38\\u4e0e\\u5f20\\u4e09\\u674e\\u56db\\u805a\\u4f1a-\\u5fc3\\u60c5\\uff1a\\u671f\\u5f85\\u653e\\u677e\\uff0c\\u793e\\u4ea4\\u9700\\u6c42\\u660e\\u663e\\uff1b\",\n",
      "  \"metadata\": {\n",
      "    \"annotation_reply\": null,\n",
      "    \"retriever_resources\": [],\n",
      "    \"usage\": {\n",
      "      \"prompt_tokens\": 1160,\n",
      "      \"prompt_unit_price\": \"2\",\n",
      "      \"prompt_price_unit\": \"0.000001\",\n",
      "      \"prompt_price\": \"0.002320\",\n",
      "      \"completion_tokens\": 159,\n",
      "      \"completion_unit_price\": \"8\",\n",
      "      \"completion_price_unit\": \"0.000001\",\n",
      "      \"completion_price\": \"0.001272\",\n",
      "      \"total_tokens\": 1319,\n",
      "      \"total_price\": \"0.003592\",\n",
      "      \"currency\": \"RMB\",\n",
      "      \"latency\": 13.956189477999942\n",
      "    }\n",
      "  },\n",
      "  \"created_at\": 1756637685\n",
      "}\n"
     ]
    }
   ],
   "source": [
    "chat_url = f\"{API_BASE_URL}{CHAT_ENDPOINT}\"\n",
    "chat_headers = {\n",
    "    \"Authorization\": f\"Bearer {API_KEY}\",\n",
    "    \"Content-Type\": \"application/json\"\n",
    "}\n",
    "\n",
    "# 构建对话请求体\n",
    "chat_payload = {\n",
    "    \"inputs\": {},\n",
    "    \"query\": query_text,  \n",
    "    \"response_mode\": \"blocking\",  # 使用阻塞模式，等待完整响应\n",
    "    \"conversation_id\": \"\",  \n",
    "    \"user\": USER_ID,\n",
    "    \"files\": [\n",
    "        {\n",
    "            \"type\": \"audio\",\n",
    "            \"transfer_method\": \"local_file\",\n",
    "            \"upload_file_id\": file_id\n",
    "        }\n",
    "    ]\n",
    "}\n",
    "\n",
    "# 发送对话请求\n",
    "chat_response = requests.post(\n",
    "    chat_url, \n",
    "    headers=chat_headers, \n",
    "    json=chat_payload, \n",
    "    timeout=60  # 设置较长超时，因为模型需要时间处理\n",
    ")\n",
    "\n",
    "print(f\"对话响应状态码: {chat_response.status_code}\")\n",
    "\n",
    "if chat_response.status_code == 200:\n",
    "    chat_result = chat_response.json()\n",
    "    print(\"对话请求成功\")\n",
    "    print(f\"对话响应: {json.dumps(chat_result, indent=2)}\")\n",
    "    \n",
    "   "
   ]
  },
  {
   "cell_type": "code",
   "execution_count": 6,
   "metadata": {},
   "outputs": [
    {
     "name": "stdout",
     "output_type": "stream",
     "text": [
      "从answer字段提取到音频URL: https://upload.dify.ai/files/tools/47275ccf-7a2f-4494-a9c4-fee8a09d6fb5.wav?timestamp=1756637705&nonce=a06a8c0126fe5424df0c241fc24325c7&sign=YHjtxJMXm9QxW-6P-Z1AxQ2YluZ5h-2w-3fyKD7dD20=\n",
      "找到音频URL: https://upload.dify.ai/files/tools/47275ccf-7a2f-4494-a9c4-fee8a09d6fb5.wav?timestamp=1756637705&nonce=a06a8c0126fe5424df0c241fc24325c7&sign=YHjtxJMXm9QxW-6P-Z1AxQ2YluZ5h-2w-3fyKD7dD20=\n",
      "开始下载音频文件...\n",
      "处理后的音频已保存到: processed_audio_20250831_185508.wav\n",
      "新的上下文内容:\n",
      "用户：下午我想去打牌。；\n",
      "小伴：奶奶下午想去打牌呀，那真好！记得多穿件外套，别着凉了呗。；是和上次说的张三李四他们一起玩不？；\n",
      "\n",
      "记忆：下午打牌习惯, 可能常与张三李四聚会-心情：期待放松，社交需求明显；\n"
     ]
    }
   ],
   "source": [
    "# 提取音频URL和新的上下文内容\n",
    "audio_url = None\n",
    "new_context = None\n",
    "\n",
    "# 从响应中提取音频URL\n",
    "if \"answer\" in chat_result:\n",
    "    answer_text = chat_result[\"answer\"]\n",
    "    \n",
    "    # 从answer字段中提取音频URL（Markdown格式的链接）\n",
    "    import re\n",
    "    audio_match = re.search(r'\\[.*?\\]\\((.*?)\\)', answer_text)\n",
    "    if audio_match:\n",
    "        audio_url = audio_match.group(1)\n",
    "        print(f\"从answer字段提取到音频URL: {audio_url}\")\n",
    "        \n",
    "        # 从answer字段中移除音频URL部分，保留纯文本\n",
    "        new_context = re.sub(r'\\[.*?\\]\\(.*?\\)\\s*[；;]?\\s*', '', answer_text).strip()\n",
    "    else:\n",
    "        # 如果没有找到音频URL，使用整个answer作为上下文\n",
    "        new_context = answer_text\n",
    "        print(\"answer字段中没有找到音频URL格式的链接\")\n",
    "else:\n",
    "    print(\"响应中没有answer字段\")\n",
    "\n",
    "# 下载音频文件（如果存在）\n",
    "if audio_url:\n",
    "    print(f\"找到音频URL: {audio_url}\")\n",
    "    # 生成保存文件名\n",
    "    timestamp = datetime.now().strftime(\"%Y%m%d_%H%M%S\")\n",
    "    audio_filename = f\"processed_audio_{timestamp}.wav\"  # 使用.wav扩展名，因为URL指向.wav文件\n",
    "    \n",
    "    # 下载音频\n",
    "    print(\"开始下载音频文件...\")\n",
    "    audio_response = requests.get(audio_url, timeout=30)\n",
    "    if audio_response.status_code == 200:\n",
    "        with open(audio_filename, \"wb\") as f:\n",
    "            f.write(audio_response.content)\n",
    "        print(f\"处理后的音频已保存到: {audio_filename}\")\n",
    "    else:\n",
    "        print(f\"音频下载失败，状态码: {audio_response.status_code}\")\n",
    "else:\n",
    "    print(\"响应中未找到音频URL\")\n",
    "    \n",
    "# 输出新的上下文内容\n",
    "if new_context:\n",
    "    print(\"新的上下文内容:\")\n",
    "    print(new_context)\n",
    "else:\n",
    "    print(\"响应中未找到新的上下文内容\")"
   ]
  },
  {
   "cell_type": "code",
   "execution_count": 7,
   "metadata": {},
   "outputs": [
    {
     "name": "stdout",
     "output_type": "stream",
     "text": [
      "已存储聊天记录: 用户：下午我想去打牌。；\n",
      "小伴：奶奶下午想去打牌呀，那真好！记得多穿件外套，别着凉了呗。；是和上次说的张三李四他们一起玩不？；\n",
      "已存储记忆: 记忆：下午打牌习惯, 可能常与张三李四聚会-心情：期待放松，社交需求明显；\n"
     ]
    }
   ],
   "source": [
    "if new_context:\n",
    "    # 使用两个连续的\\n作为分隔符\n",
    "    parts = new_context.split('\\n\\n')\n",
    "    \n",
    "    # 提取聊天记录部分\n",
    "    if len(parts) > 0:\n",
    "        chat_part = parts[0].strip()\n",
    "        if chat_part:\n",
    "            # 存储聊天记录\n",
    "            chat_record = {\n",
    "                \"timestamp\": datetime.now().strftime(\"%Y-%m-%d %H:%M:%S\"),\n",
    "                \"content\": chat_part\n",
    "            }\n",
    "            chat_history.append(chat_record)\n",
    "            print(f\"已存储聊天记录: {chat_part}\")\n",
    "    \n",
    "    # 提取记忆部分\n",
    "    if len(parts) > 1:\n",
    "        memory_part = parts[1].strip()\n",
    "        if memory_part:\n",
    "            # 存储记忆\n",
    "            memory_record = {\n",
    "                \"timestamp\": datetime.now().strftime(\"%Y-%m-%d %H:%M:%S\"),\n",
    "                \"content\": memory_part\n",
    "            }\n",
    "            memory_records.append(memory_record)\n",
    "            print(f\"已存储记忆: {memory_part}\")\n",
    "save_data()"
   ]
  },
  {
   "cell_type": "code",
   "execution_count": 9,
   "metadata": {},
   "outputs": [
    {
     "data": {
      "text/plain": [
       "[{'timestamp': '2025-08-29 17:47:12',\n",
       "  'content': '用户：张三和李四。；\\n小伴：爷爷您说张三和李四呀，是您的老朋友呗？；他们最近来看您了没？；'}]"
      ]
     },
     "execution_count": 9,
     "metadata": {},
     "output_type": "execute_result"
    }
   ],
   "source": [
    "chat_history"
   ]
  },
  {
   "cell_type": "code",
   "execution_count": 10,
   "metadata": {},
   "outputs": [
    {
     "data": {
      "text/plain": [
       "[{'timestamp': '2025-08-29 17:47:12', 'content': '记忆：张三,李四-心情：可能想起故人，略带怀念；'}]"
      ]
     },
     "execution_count": 10,
     "metadata": {},
     "output_type": "execute_result"
    }
   ],
   "source": [
    "memory_records"
   ]
  },
  {
   "cell_type": "code",
   "execution_count": null,
   "metadata": {},
   "outputs": [],
   "source": []
  }
 ],
 "metadata": {
  "kernelspec": {
   "display_name": "pytorch",
   "language": "python",
   "name": "python3"
  },
  "language_info": {
   "codemirror_mode": {
    "name": "ipython",
    "version": 3
   },
   "file_extension": ".py",
   "mimetype": "text/x-python",
   "name": "python",
   "nbconvert_exporter": "python",
   "pygments_lexer": "ipython3",
   "version": "3.11.13"
  },
  "orig_nbformat": 4
 },
 "nbformat": 4,
 "nbformat_minor": 2
}
